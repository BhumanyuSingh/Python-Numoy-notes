{
 "cells": [
  {
   "cell_type": "markdown",
   "id": "cd52f104",
   "metadata": {},
   "source": [
    "# Similarity Between NumPy Arrays & Python List"
   ]
  },
  {
   "cell_type": "markdown",
   "id": "877ea065",
   "metadata": {},
   "source": [
    "## 1. Data Storage:\n",
    "Both NumPy arrays and Python lists are used to store collections of data elements. They provide a way to organize and hold multiple values in a single structure. You can store various data types such as numbers, strings, or objects in both NumPy arrays and Python lists."
   ]
  },
  {
   "cell_type": "markdown",
   "id": "786c4f12",
   "metadata": {},
   "source": [
    "## 2. Indexing and Slicing: \n",
    "You can access individual elements of NumPy arrays and Python lists using indexing and slicing notation. Elements are accessed by their position in the array or list, starting from index 0.\n",
    "Example as shown below:"
   ]
  },
  {
   "cell_type": "code",
   "execution_count": 24,
   "id": "06a8c461",
   "metadata": {},
   "outputs": [
    {
     "name": "stdout",
     "output_type": "stream",
     "text": [
      "This is the first element of the numpy_array =  1\n",
      "This is the first element of the puthon_ist =  1\n"
     ]
    }
   ],
   "source": [
    "# Below is the example of accessing individual element\n",
    "import numpy as np\n",
    "\n",
    "# Storing data elements in a NumPy array\n",
    "numpy_array = np.array([1, 2, 3, 4, 5])\n",
    "print(f\"This is the first element of the numpy_array = \",numpy_array[0])\n",
    "# Storing data elements in a Python list\n",
    "python_list = [1, 2, 3, 4, 5]\n",
    "print(f\"This is the first element of the puthon_ist = \",python_list[0])\n"
   ]
  },
  {
   "cell_type": "code",
   "execution_count": 25,
   "id": "43779a1f",
   "metadata": {},
   "outputs": [
    {
     "name": "stdout",
     "output_type": "stream",
     "text": [
      "[3 4]\n",
      "[3, 4]\n"
     ]
    }
   ],
   "source": [
    "# Below are the example of slicing \n",
    "print(numpy_array[2:4])\n",
    "print(python_list[2:4])"
   ]
  },
  {
   "cell_type": "markdown",
   "id": "25d200ee",
   "metadata": {},
   "source": [
    "## 3. Mutable: \n",
    "Both NumPy arrays and Python lists are mutable, meaning you can modify their elements after they are created. You can change the value of specific elements or add/remove elements from the array or list."
   ]
  },
  {
   "cell_type": "code",
   "execution_count": 7,
   "id": "32e3322b",
   "metadata": {},
   "outputs": [
    {
     "name": "stdout",
     "output_type": "stream",
     "text": [
      "Data Before changing\n",
      "[100   2   3   4   5]\n",
      "[100, 2, 3, 4, 5]\n",
      "Data After changing\n",
      "[100   2   3   4   5]\n",
      "[100, 2, 3, 4, 5]\n"
     ]
    }
   ],
   "source": [
    "# Example of mutable in which we will change the first emement of both data type to 100\n",
    "print(\"Data Before changing\")\n",
    "print(numpy_array)\n",
    "print(python_list)\n",
    "print(\"Data After changing\")\n",
    "numpy_array[0]=100\n",
    "python_list[0]=100\n",
    "print(numpy_array)\n",
    "print(python_list)\n",
    "# we are chaning again our data as previous for our next examples\n",
    "numpy_array[0]=1\n",
    "python_list[0]=1"
   ]
  },
  {
   "cell_type": "markdown",
   "id": "3aa86e4d",
   "metadata": {},
   "source": [
    "## 4. Iteration:\n",
    "You can iterate over the elements of NumPy arrays and Python lists using loops (e.g., for loop) or other iteration mechanisms. This allows you to process each element sequentially"
   ]
  },
  {
   "cell_type": "code",
   "execution_count": 8,
   "id": "022202f9",
   "metadata": {},
   "outputs": [
    {
     "name": "stdout",
     "output_type": "stream",
     "text": [
      "Below is the result of iteration over numpy arrays\n",
      "1\n",
      "2\n",
      "3\n",
      "4\n",
      "5\n",
      "Below is the result of iteration over python list\n",
      "1\n",
      "2\n",
      "3\n",
      "4\n",
      "5\n"
     ]
    }
   ],
   "source": [
    "# Example on iterantions\n",
    "print(\"Below is the result of iteration over numpy arrays\")\n",
    "for i in numpy_array:\n",
    "    print(i)\n",
    "print(\"Below is the result of iteration over python list\")\n",
    "for i in python_list:\n",
    "    print(i)\n"
   ]
  },
  {
   "cell_type": "markdown",
   "id": "9277fc2c",
   "metadata": {},
   "source": [
    "## 5. Mathematical Operations:\n",
    "Both NumPy arrays and Python lists support mathematical operations like addition, subtraction, multiplication, etc. However, NumPy arrays provide the advantage of performing these operations element-wise, making them more efficient for numerical computations.\n"
   ]
  },
  {
   "cell_type": "code",
   "execution_count": 23,
   "id": "b04ebea9",
   "metadata": {},
   "outputs": [
    {
     "name": "stdout",
     "output_type": "stream",
     "text": [
      "[101 102 103 104 105]\n"
     ]
    }
   ],
   "source": [
    "# Below are the example of numpy array in which we perform additions.\n",
    "numpy_array_added=numpy_array + 100\n",
    "print(numpy_array_added)\n",
    "# Below are the example of python array in which we perform additions.\n",
    "# python_list_added=python_list + 100\n",
    "# print(python_list_added)\n",
    "# Please note that we can't add and multiple any integer to our list directly we can do the same by using loops"
   ]
  },
  {
   "cell_type": "markdown",
   "id": "63009cd1",
   "metadata": {},
   "source": [
    "## 6. Mixed Data Types: \n",
    "Both NumPy arrays and Python lists can accommodate elements of different data types. They can store integers, floats, strings, and other Python objects.\n",
    "But in numpy array we can only add a similar data type at a time. like we can store integer in out array so that each element of the array must be integer."
   ]
  },
  {
   "cell_type": "markdown",
   "id": "aa17a28d",
   "metadata": {},
   "source": [
    "## 7. Dynamic Size:\n",
    "Both NumPy arrays and Python lists can dynamically change in size. You can add or remove elements as needed, allowing for flexibility in managing the collection of data. "
   ]
  },
  {
   "cell_type": "markdown",
   "id": "5d938916",
   "metadata": {},
   "source": []
  }
 ],
 "metadata": {
  "kernelspec": {
   "display_name": "Python 3 (ipykernel)",
   "language": "python",
   "name": "python3"
  },
  "language_info": {
   "codemirror_mode": {
    "name": "ipython",
    "version": 3
   },
   "file_extension": ".py",
   "mimetype": "text/x-python",
   "name": "python",
   "nbconvert_exporter": "python",
   "pygments_lexer": "ipython3",
   "version": "3.9.13"
  }
 },
 "nbformat": 4,
 "nbformat_minor": 5
}
